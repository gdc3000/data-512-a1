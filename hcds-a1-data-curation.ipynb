{
 "cells": [
  {
   "cell_type": "markdown",
   "metadata": {
    "collapsed": true
   },
   "source": [
    "# Step 0: Pre-processing"
   ]
  },
  {
   "cell_type": "markdown",
   "metadata": {
    "collapsed": true
   },
   "source": [
    "Base path: set this to a location on your local machine where you'd like the script to output files."
   ]
  },
  {
   "cell_type": "code",
   "execution_count": 1,
   "metadata": {
    "collapsed": true
   },
   "outputs": [],
   "source": [
    "base_path = 'C:/Users/geoffc.REDMOND/OneDrive/Data512/A1/'"
   ]
  },
  {
   "cell_type": "markdown",
   "metadata": {},
   "source": [
    "# Step 1: Data acquisition"
   ]
  },
  {
   "cell_type": "code",
   "execution_count": 2,
   "metadata": {
    "collapsed": true
   },
   "outputs": [],
   "source": [
    "import requests\n",
    "import json"
   ]
  },
  {
   "cell_type": "markdown",
   "metadata": {},
   "source": [
    "Define a function to output data to json files.\n",
    "Input: The function recieves a dict object and meta data to properly name file.\n",
    "Output: The function writes dict object to json file."
   ]
  },
  {
   "cell_type": "code",
   "execution_count": 3,
   "metadata": {
    "collapsed": true
   },
   "outputs": [],
   "source": [
    "def outputToJson(base_path,apiname,accesstype,start,end,data):\n",
    "    out_path = base_path + apiname + '_' + accesstype + '_' + start + '-' + end + '.json'\n",
    "    with open(out_path, 'w') as f:\n",
    "        json.dump(data, f)"
   ]
  },
  {
   "cell_type": "markdown",
   "metadata": {},
   "source": [
    "Pull page views through wikimedia API from July 2015 an onward. Output intermediate data to json."
   ]
  },
  {
   "cell_type": "code",
   "execution_count": 4,
   "metadata": {
    "collapsed": true
   },
   "outputs": [],
   "source": [
    "endpoint_views = 'https://wikimedia.org/api/rest_v1/metrics/pageviews/aggregate/{project}/{access}/{agent}/{granularity}/{start}/{end}'\n",
    "\n",
    "start = '20150701'\n",
    "end = '20171110'\n",
    "\n",
    "params_views = {'project' : 'en.wikipedia.org',\n",
    "            'access' : 'mobile-web',\n",
    "            'agent' : 'user',\n",
    "            'granularity' : 'monthly',\n",
    "          'start' : start+'00',\n",
    "            'end' : end+'00'\n",
    "            }\n",
    "\n",
    "mobile_web_views = requests.get(endpoint_views.format(**params_views))\n",
    "outputToJson(base_path,'pageviews','mobile-web',start,end,mobile_web_views.json())\n",
    "\n",
    "params_views['access'] = 'mobile-app'\n",
    "mobile_app_views = requests.get(endpoint_views.format(**params_views))\n",
    "outputToJson(base_path,'pageviews','mobile-app',start,end,mobile_app_views.json())\n",
    "\n",
    "params_views['access'] = 'desktop'\n",
    "desktop_views = requests.get(endpoint_views.format(**params_views))\n",
    "outputToJson(base_path,'pageviews','desktop',start,end,desktop_views.json())"
   ]
  },
  {
   "cell_type": "markdown",
   "metadata": {},
   "source": [
    "Pull page counts through wikimedia pagecounts API from January 2008 through August 2016. Output intermediate data to json."
   ]
  },
  {
   "cell_type": "code",
   "execution_count": 5,
   "metadata": {
    "collapsed": true
   },
   "outputs": [],
   "source": [
    "endpoint_counts = 'https://wikimedia.org/api/rest_v1/metrics/legacy/pagecounts/aggregate/{project}/{access-site}/{granularity}/{start}/{end}'\n",
    "\n",
    "start = '20080101'\n",
    "end = '20171110'\n",
    "\n",
    "params_count = {'project' : 'en.wikipedia.org',\n",
    "            'access-site' : 'desktop-site',\n",
    "            'granularity' : 'monthly',\n",
    "            'start' : start + '00',\n",
    "            'end' : end + '00'\n",
    "            }\n",
    "\n",
    "desktop_counts = requests.get(endpoint_counts.format(**params_count))\n",
    "outputToJson(base_path,'pagecounts','desktop',start,end,desktop_counts.json())\n",
    "\n",
    "params_count['access-site'] = 'mobile-site'\n",
    "mobile_counts = requests.get(endpoint_counts.format(**params_count))\n",
    "outputToJson(base_path,'pagecounts','mobile-site',start,end,mobile_counts.json())"
   ]
  },
  {
   "cell_type": "markdown",
   "metadata": {},
   "source": [
    "# Step 2: Data processing"
   ]
  },
  {
   "cell_type": "markdown",
   "metadata": {},
   "source": [
    "Put the page view data into a pandas dataframe and join it all together. Standardize the columns."
   ]
  },
  {
   "cell_type": "code",
   "execution_count": 6,
   "metadata": {
    "collapsed": true
   },
   "outputs": [],
   "source": [
    "import pandas as pd\n",
    "from pandas.io.json import json_normalize"
   ]
  },
  {
   "cell_type": "markdown",
   "metadata": {},
   "source": [
    "Pull mobile and desktop view data into Pandas DataFrames."
   ]
  },
  {
   "cell_type": "code",
   "execution_count": 7,
   "metadata": {
    "collapsed": true
   },
   "outputs": [],
   "source": [
    "data_mobile_web_views = json_normalize(json.loads(mobile_web_views.text)['items'])\n",
    "data_mobile_app_views = json_normalize(json.loads(mobile_app_views.text)['items'])\n",
    "data_desktop_views = json_normalize(json.loads(desktop_views.text)['items'])"
   ]
  },
  {
   "cell_type": "markdown",
   "metadata": {},
   "source": [
    "Join view data into one DataFrame."
   ]
  },
  {
   "cell_type": "code",
   "execution_count": 8,
   "metadata": {
    "collapsed": true
   },
   "outputs": [],
   "source": [
    "data_views = pd.merge(data_mobile_web_views,data_mobile_app_views,on='timestamp',how='outer')\n",
    "data_views = pd.merge(data_views,data_desktop_views,on='timestamp',how='outer')"
   ]
  },
  {
   "cell_type": "markdown",
   "metadata": {},
   "source": [
    "Get rid of extra columns and rename columns in view data."
   ]
  },
  {
   "cell_type": "code",
   "execution_count": 9,
   "metadata": {
    "collapsed": true
   },
   "outputs": [],
   "source": [
    "data_views['pageview_mobile_views'] = data_views['views_x'] + data_views['views_y']\n",
    "data_views['pageview_all_views'] = data_views['pageview_mobile_views'] + data_views['views']\n",
    "data_views = data_views.drop(data_views.columns[[0,1,2,3,5,6,7,8,9,10,11,12,13,14]],axis=1)\n",
    "data_views.columns = ['timestamp','pageview_desktop_views','pageview_mobile_views','pageview_all_views']\n",
    "#data_views.head(1)"
   ]
  },
  {
   "cell_type": "markdown",
   "metadata": {},
   "source": [
    "Pull mobile and desktop count data into Pandas DataFrames."
   ]
  },
  {
   "cell_type": "code",
   "execution_count": 10,
   "metadata": {
    "collapsed": true
   },
   "outputs": [],
   "source": [
    "data_desktop_counts = json_normalize(json.loads(desktop_counts.text)['items'])\n",
    "data_mobile_counts = json_normalize(json.loads(mobile_counts.text)['items'])"
   ]
  },
  {
   "cell_type": "markdown",
   "metadata": {},
   "source": [
    "Join count data into one DataFrame."
   ]
  },
  {
   "cell_type": "code",
   "execution_count": 11,
   "metadata": {
    "collapsed": true
   },
   "outputs": [],
   "source": [
    "data_counts = pd.merge(data_desktop_counts,data_mobile_counts,on='timestamp',how='outer')\n",
    "data_counts = data_counts.fillna(0)"
   ]
  },
  {
   "cell_type": "markdown",
   "metadata": {},
   "source": [
    "Get rid of extra columns and rename columns in count data."
   ]
  },
  {
   "cell_type": "code",
   "execution_count": 12,
   "metadata": {
    "collapsed": true
   },
   "outputs": [],
   "source": [
    "data_counts['pageview_all_views'] = data_counts['count_x'] + data_counts['count_y']\n",
    "data_counts = data_counts.drop(data_counts.columns[[0,2,3,5,7,8]],axis=1)\n",
    "data_counts.columns = ['pagecount_desktop_views','timestamp','pagecount_mobile_views','pagecount_all_views']\n",
    "#data_counts.head(1)"
   ]
  },
  {
   "cell_type": "markdown",
   "metadata": {},
   "source": [
    "Merge the count and view data together into one dataframe that contains all data. Separate month and year into separate fields. Set correct data types of number of views and timestamp fields."
   ]
  },
  {
   "cell_type": "code",
   "execution_count": 13,
   "metadata": {
    "collapsed": true
   },
   "outputs": [],
   "source": [
    "data = pd.merge(data_counts,data_views,on='timestamp',how='outer')\n",
    "data['year'] = data['timestamp'].str[:4]\n",
    "data['month'] = data['timestamp'].str[4:6]\n",
    "data = data[['timestamp','year','month','pagecount_all_views','pagecount_desktop_views','pagecount_mobile_views','pageview_all_views','pageview_desktop_views','pageview_mobile_views']]\n",
    "data = data.fillna(0)\n",
    "data = data.apply(pd.to_numeric)\n",
    "data.sort_values(['timestamp'],ascending=[True])\n",
    "data['timestamp'] = pd.to_datetime(data['timestamp'].astype(str).str[0:8],format='%Y%m%d')\n",
    "#data"
   ]
  },
  {
   "cell_type": "markdown",
   "metadata": {},
   "source": [
    "Export intermediate data to csv in format specified."
   ]
  },
  {
   "cell_type": "code",
   "execution_count": 14,
   "metadata": {
    "collapsed": true
   },
   "outputs": [],
   "source": [
    "data_step2_output = data.drop(data.columns[[0]],axis=1)\n",
    "\n",
    "path = base_path + 'en-wikipedia_traffic_200801-201709.csv'\n",
    "data_step2_output.to_csv(path_or_buf=path,sep=',', encoding='utf-8')"
   ]
  },
  {
   "cell_type": "markdown",
   "metadata": {},
   "source": [
    "Do some filtering on data to prepare for analysis step. Show views and counts in Millions for visualization purposes."
   ]
  },
  {
   "cell_type": "code",
   "execution_count": 15,
   "metadata": {
    "collapsed": true
   },
   "outputs": [],
   "source": [
    "import datetime\n",
    "data_step3 = pd.concat([data[['timestamp']]\n",
    "    ,data[['pagecount_all_views','pagecount_desktop_views','pagecount_mobile_views','pageview_all_views','pageview_desktop_views','pageview_mobile_views']]/(1000*1000)],axis=1)\n",
    "data_pc = data_step3[(data_step3['timestamp']<datetime.date(2016,8,1))]\n",
    "data_pv = data_step3[(data_step3['timestamp']>datetime.date(2015,7,1))]"
   ]
  },
  {
   "cell_type": "markdown",
   "metadata": {},
   "source": [
    "# Step 3: Analysis"
   ]
  },
  {
   "cell_type": "code",
   "execution_count": 16,
   "metadata": {
    "collapsed": true
   },
   "outputs": [],
   "source": [
    "import matplotlib.pyplot as plt"
   ]
  },
  {
   "cell_type": "markdown",
   "metadata": {},
   "source": [
    "Define a function which generates a plot based on data in the previous steps.\n",
    "Input: Recieves a boolean which indicates if function should show plot in Jupyter notebooks or output a .png to file."
   ]
  },
  {
   "cell_type": "code",
   "execution_count": 17,
   "metadata": {
    "collapsed": true
   },
   "outputs": [],
   "source": [
    "def generatePlot(show=True):\n",
    "    plt.plot(\"timestamp\",\"pagecount_all_views\",data=data_pc,c='black',linestyle='--')\n",
    "    plt.plot(\"timestamp\",\"pagecount_desktop_views\",data=data_pc,c='green',linestyle='--')\n",
    "    plt.plot(\"timestamp\",\"pagecount_mobile_views\",data=data_pc,c='blue',linestyle='--')\n",
    "    line1, = plt.plot(\"timestamp\",\"pageview_all_views\",data=data_pv,c='black',linestyle='solid',label='total')\n",
    "    line2, = plt.plot(\"timestamp\",\"pageview_desktop_views\",data=data_pv,c='green',linestyle='solid',label='main site')\n",
    "    line3, = plt.plot(\"timestamp\",\"pageview_mobile_views\",data=data_pv,c='blue',linestyle='solid',label='mobile site')\n",
    "    plt.legend(handles=[line1,line2,line3],loc=\"upper left\")\n",
    "    plt.title('Page Views on English Wikipedia (x 1,000,000)')\n",
    "    plt.ticklabel_format(style='plain',axis='y')\n",
    "    plt.xlabel('Year')\n",
    "    plt.ylabel('Views')\n",
    "    if show:\n",
    "        plt.show()\n",
    "    else:\n",
    "        path = base_path + 'eng_wikipedia_pageviews.png'\n",
    "        plt.savefig(path)"
   ]
  },
  {
   "cell_type": "markdown",
   "metadata": {},
   "source": [
    "Run the generatePlot function to output plot to base_path file location. Run it again and show plot below."
   ]
  },
  {
   "cell_type": "code",
   "execution_count": 18,
   "metadata": {},
   "outputs": [
    {
     "data": {
      "image/png": "[encoded data removed]",
      "text/plain": [
       "<matplotlib.figure.Figure at 0x253e0d0d2e8>"
      ]
     },
     "metadata": {},
     "output_type": "display_data"
    }
   ],
   "source": [
    "generatePlot(show=False)\n",
    "generatePlot()"
   ]
  }
 ],
 "metadata": {
  "kernelspec": {
   "display_name": "Python 3",
   "language": "python",
   "name": "python3"
  },
  "language_info": {
   "codemirror_mode": {
    "name": "ipython",
    "version": 3
   },
   "file_extension": ".py",
   "mimetype": "text/x-python",
   "name": "python",
   "nbconvert_exporter": "python",
   "pygments_lexer": "ipython3",
   "version": "3.6.2"
  }
 },
 "nbformat": 4,
 "nbformat_minor": 2
}
